{
 "cells": [
  {
   "cell_type": "code",
   "execution_count": 1,
   "metadata": {},
   "outputs": [],
   "source": [
    "import itertools\n",
    "\n",
    "from combinatorics import get_S108_and_S12_grouped_by_complements_and_circular_permutations, count_valid_combinations\n",
    "\n",
    "\n",
    "def generate_combinations(L, autocomplements, n):\n",
    "    # n-2*i <= len_autocomplements\n",
    "    # n-len_autocomplements <= 2*i\n",
    "    # i >= (n-len_autocomplements)/2\n",
    "    # i >= (n-len_autocomplements+1)//2\n",
    "    len_L = len(L)\n",
    "    len_autocomplements = len(autocomplements)\n",
    "    # m = 0\n",
    "    # M = n//2+1\n",
    "    m = max(0, (n - len_autocomplements + 1) // 2)\n",
    "    M = min(n // 2 + 1, len_L)\n",
    "    return itertools.chain.from_iterable(\n",
    "        itertools.product(\n",
    "            itertools.product(*L_subset), itertools.product(*autocomplements_subset)\n",
    "        )\n",
    "        for i in range(m, M)\n",
    "        for L_subset in itertools.combinations(L, i)\n",
    "        for autocomplements_subset in itertools.combinations(autocomplements, n - 2 * i)\n",
    "    )\n",
    "\n",
    "L, autocomplements = get_S108_and_S12_grouped_by_complements_and_circular_permutations()"
   ]
  },
  {
   "cell_type": "code",
   "execution_count": 2,
   "metadata": {},
   "outputs": [
    {
     "data": {
      "text/plain": [
       "[12, 168, 1456, 12336, 84864, 550144]"
      ]
     },
     "execution_count": 2,
     "metadata": {},
     "output_type": "execute_result"
    }
   ],
   "source": [
    "[count_valid_combinations(L, autocomplements, n) for n in range(1, 7)]"
   ]
  },
  {
   "cell_type": "code",
   "execution_count": 3,
   "metadata": {},
   "outputs": [
    {
     "data": {
      "text/plain": [
       "[12, 168, 1456, 12336, 84864, 550144]"
      ]
     },
     "execution_count": 3,
     "metadata": {},
     "output_type": "execute_result"
    }
   ],
   "source": [
    "[sum(1 for _ in generate_combinations(L, autocomplements, n)) for n in range(1, 7)]"
   ]
  }
 ],
 "metadata": {
  "kernelspec": {
   "display_name": "Python 3",
   "language": "python",
   "name": "python3"
  },
  "language_info": {
   "codemirror_mode": {
    "name": "ipython",
    "version": 3
   },
   "file_extension": ".py",
   "mimetype": "text/x-python",
   "name": "python",
   "nbconvert_exporter": "python",
   "pygments_lexer": "ipython3",
   "version": "3.11.5"
  }
 },
 "nbformat": 4,
 "nbformat_minor": 2
}
